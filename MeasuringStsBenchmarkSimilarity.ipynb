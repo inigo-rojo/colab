{
  "nbformat": 4,
  "nbformat_minor": 0,
  "metadata": {
    "colab": {
      "provenance": [],
      "authorship_tag": "ABX9TyM9ddrHxlBgmafTXQ5DuNKP",
      "include_colab_link": true
    },
    "kernelspec": {
      "name": "python3",
      "display_name": "Python 3"
    },
    "language_info": {
      "name": "python"
    }
  },
  "cells": [
    {
      "cell_type": "markdown",
      "metadata": {
        "id": "view-in-github",
        "colab_type": "text"
      },
      "source": [
        "<a href=\"https://colab.research.google.com/github/inigo-rojo/colab/blob/main/MeasuringStsBenchmarkSimilarity.ipynb\" target=\"_parent\"><img src=\"https://colab.research.google.com/assets/colab-badge.svg\" alt=\"Open In Colab\"/></a>"
      ]
    },
    {
      "cell_type": "code",
      "execution_count": null,
      "metadata": {
        "colab": {
          "base_uri": "https://localhost:8080/"
        },
        "id": "FmoPRqPiwhWo",
        "outputId": "293df9bd-5aaf-4832-97d4-5572a4a4c875"
      },
      "outputs": [
        {
          "output_type": "stream",
          "name": "stdout",
          "text": [
            "Mounted at /content/drive/\n"
          ]
        }
      ],
      "source": [
        "from google.colab import drive\n",
        "drive.mount('/content/drive/', force_remount=True)"
      ]
    },
    {
      "cell_type": "code",
      "source": [
        "pip install -U sentence-transformers"
      ],
      "metadata": {
        "colab": {
          "base_uri": "https://localhost:8080/"
        },
        "id": "T4535dux_MpQ",
        "outputId": "7cafa7b6-528e-4002-c19f-a700730f82fb"
      },
      "execution_count": null,
      "outputs": [
        {
          "output_type": "stream",
          "name": "stdout",
          "text": [
            "Looking in indexes: https://pypi.org/simple, https://us-python.pkg.dev/colab-wheels/public/simple/\n",
            "Collecting sentence-transformers\n",
            "  Downloading sentence-transformers-2.2.2.tar.gz (85 kB)\n",
            "\u001b[2K     \u001b[90m━━━━━━━━━━━━━━━━━━━━━━━━━━━━━━━━━━━━━━━━\u001b[0m \u001b[32m86.0/86.0 kB\u001b[0m \u001b[31m3.5 MB/s\u001b[0m eta \u001b[36m0:00:00\u001b[0m\n",
            "\u001b[?25h  Preparing metadata (setup.py) ... \u001b[?25l\u001b[?25hdone\n",
            "Collecting transformers<5.0.0,>=4.6.0 (from sentence-transformers)\n",
            "  Downloading transformers-4.30.2-py3-none-any.whl (7.2 MB)\n",
            "\u001b[2K     \u001b[90m━━━━━━━━━━━━━━━━━━━━━━━━━━━━━━━━━━━━━━━━\u001b[0m \u001b[32m7.2/7.2 MB\u001b[0m \u001b[31m27.8 MB/s\u001b[0m eta \u001b[36m0:00:00\u001b[0m\n",
            "\u001b[?25hRequirement already satisfied: tqdm in /usr/local/lib/python3.10/dist-packages (from sentence-transformers) (4.65.0)\n",
            "Requirement already satisfied: torch>=1.6.0 in /usr/local/lib/python3.10/dist-packages (from sentence-transformers) (2.0.1+cu118)\n",
            "Requirement already satisfied: torchvision in /usr/local/lib/python3.10/dist-packages (from sentence-transformers) (0.15.2+cu118)\n",
            "Requirement already satisfied: numpy in /usr/local/lib/python3.10/dist-packages (from sentence-transformers) (1.22.4)\n",
            "Requirement already satisfied: scikit-learn in /usr/local/lib/python3.10/dist-packages (from sentence-transformers) (1.2.2)\n",
            "Requirement already satisfied: scipy in /usr/local/lib/python3.10/dist-packages (from sentence-transformers) (1.10.1)\n",
            "Requirement already satisfied: nltk in /usr/local/lib/python3.10/dist-packages (from sentence-transformers) (3.8.1)\n",
            "Collecting sentencepiece (from sentence-transformers)\n",
            "  Downloading sentencepiece-0.1.99-cp310-cp310-manylinux_2_17_x86_64.manylinux2014_x86_64.whl (1.3 MB)\n",
            "\u001b[2K     \u001b[90m━━━━━━━━━━━━━━━━━━━━━━━━━━━━━━━━━━━━━━━━\u001b[0m \u001b[32m1.3/1.3 MB\u001b[0m \u001b[31m30.8 MB/s\u001b[0m eta \u001b[36m0:00:00\u001b[0m\n",
            "\u001b[?25hCollecting huggingface-hub>=0.4.0 (from sentence-transformers)\n",
            "  Downloading huggingface_hub-0.15.1-py3-none-any.whl (236 kB)\n",
            "\u001b[2K     \u001b[90m━━━━━━━━━━━━━━━━━━━━━━━━━━━━━━━━━━━━━━\u001b[0m \u001b[32m236.8/236.8 kB\u001b[0m \u001b[31m21.0 MB/s\u001b[0m eta \u001b[36m0:00:00\u001b[0m\n",
            "\u001b[?25hRequirement already satisfied: filelock in /usr/local/lib/python3.10/dist-packages (from huggingface-hub>=0.4.0->sentence-transformers) (3.12.0)\n",
            "Requirement already satisfied: fsspec in /usr/local/lib/python3.10/dist-packages (from huggingface-hub>=0.4.0->sentence-transformers) (2023.4.0)\n",
            "Requirement already satisfied: requests in /usr/local/lib/python3.10/dist-packages (from huggingface-hub>=0.4.0->sentence-transformers) (2.27.1)\n",
            "Requirement already satisfied: pyyaml>=5.1 in /usr/local/lib/python3.10/dist-packages (from huggingface-hub>=0.4.0->sentence-transformers) (6.0)\n",
            "Requirement already satisfied: typing-extensions>=3.7.4.3 in /usr/local/lib/python3.10/dist-packages (from huggingface-hub>=0.4.0->sentence-transformers) (4.5.0)\n",
            "Requirement already satisfied: packaging>=20.9 in /usr/local/lib/python3.10/dist-packages (from huggingface-hub>=0.4.0->sentence-transformers) (23.1)\n",
            "Requirement already satisfied: sympy in /usr/local/lib/python3.10/dist-packages (from torch>=1.6.0->sentence-transformers) (1.11.1)\n",
            "Requirement already satisfied: networkx in /usr/local/lib/python3.10/dist-packages (from torch>=1.6.0->sentence-transformers) (3.1)\n",
            "Requirement already satisfied: jinja2 in /usr/local/lib/python3.10/dist-packages (from torch>=1.6.0->sentence-transformers) (3.1.2)\n",
            "Requirement already satisfied: triton==2.0.0 in /usr/local/lib/python3.10/dist-packages (from torch>=1.6.0->sentence-transformers) (2.0.0)\n",
            "Requirement already satisfied: cmake in /usr/local/lib/python3.10/dist-packages (from triton==2.0.0->torch>=1.6.0->sentence-transformers) (3.25.2)\n",
            "Requirement already satisfied: lit in /usr/local/lib/python3.10/dist-packages (from triton==2.0.0->torch>=1.6.0->sentence-transformers) (16.0.5)\n",
            "Requirement already satisfied: regex!=2019.12.17 in /usr/local/lib/python3.10/dist-packages (from transformers<5.0.0,>=4.6.0->sentence-transformers) (2022.10.31)\n",
            "Collecting tokenizers!=0.11.3,<0.14,>=0.11.1 (from transformers<5.0.0,>=4.6.0->sentence-transformers)\n",
            "  Downloading tokenizers-0.13.3-cp310-cp310-manylinux_2_17_x86_64.manylinux2014_x86_64.whl (7.8 MB)\n",
            "\u001b[2K     \u001b[90m━━━━━━━━━━━━━━━━━━━━━━━━━━━━━━━━━━━━━━━━\u001b[0m \u001b[32m7.8/7.8 MB\u001b[0m \u001b[31m43.4 MB/s\u001b[0m eta \u001b[36m0:00:00\u001b[0m\n",
            "\u001b[?25hCollecting safetensors>=0.3.1 (from transformers<5.0.0,>=4.6.0->sentence-transformers)\n",
            "  Downloading safetensors-0.3.1-cp310-cp310-manylinux_2_17_x86_64.manylinux2014_x86_64.whl (1.3 MB)\n",
            "\u001b[2K     \u001b[90m━━━━━━━━━━━━━━━━━━━━━━━━━━━━━━━━━━━━━━━━\u001b[0m \u001b[32m1.3/1.3 MB\u001b[0m \u001b[31m64.8 MB/s\u001b[0m eta \u001b[36m0:00:00\u001b[0m\n",
            "\u001b[?25hRequirement already satisfied: click in /usr/local/lib/python3.10/dist-packages (from nltk->sentence-transformers) (8.1.3)\n",
            "Requirement already satisfied: joblib in /usr/local/lib/python3.10/dist-packages (from nltk->sentence-transformers) (1.2.0)\n",
            "Requirement already satisfied: threadpoolctl>=2.0.0 in /usr/local/lib/python3.10/dist-packages (from scikit-learn->sentence-transformers) (3.1.0)\n",
            "Requirement already satisfied: pillow!=8.3.*,>=5.3.0 in /usr/local/lib/python3.10/dist-packages (from torchvision->sentence-transformers) (8.4.0)\n",
            "Requirement already satisfied: MarkupSafe>=2.0 in /usr/local/lib/python3.10/dist-packages (from jinja2->torch>=1.6.0->sentence-transformers) (2.1.2)\n",
            "Requirement already satisfied: urllib3<1.27,>=1.21.1 in /usr/local/lib/python3.10/dist-packages (from requests->huggingface-hub>=0.4.0->sentence-transformers) (1.26.15)\n",
            "Requirement already satisfied: certifi>=2017.4.17 in /usr/local/lib/python3.10/dist-packages (from requests->huggingface-hub>=0.4.0->sentence-transformers) (2022.12.7)\n",
            "Requirement already satisfied: charset-normalizer~=2.0.0 in /usr/local/lib/python3.10/dist-packages (from requests->huggingface-hub>=0.4.0->sentence-transformers) (2.0.12)\n",
            "Requirement already satisfied: idna<4,>=2.5 in /usr/local/lib/python3.10/dist-packages (from requests->huggingface-hub>=0.4.0->sentence-transformers) (3.4)\n",
            "Requirement already satisfied: mpmath>=0.19 in /usr/local/lib/python3.10/dist-packages (from sympy->torch>=1.6.0->sentence-transformers) (1.3.0)\n",
            "Building wheels for collected packages: sentence-transformers\n",
            "  Building wheel for sentence-transformers (setup.py) ... \u001b[?25l\u001b[?25hdone\n",
            "  Created wheel for sentence-transformers: filename=sentence_transformers-2.2.2-py3-none-any.whl size=125926 sha256=f98473b8af450ed8a3e8eb19fb505a7ce41703073f9cc7998a93a2f91bcbd739\n",
            "  Stored in directory: /root/.cache/pip/wheels/62/f2/10/1e606fd5f02395388f74e7462910fe851042f97238cbbd902f\n",
            "Successfully built sentence-transformers\n",
            "Installing collected packages: tokenizers, sentencepiece, safetensors, huggingface-hub, transformers, sentence-transformers\n",
            "Successfully installed huggingface-hub-0.15.1 safetensors-0.3.1 sentence-transformers-2.2.2 sentencepiece-0.1.99 tokenizers-0.13.3 transformers-4.30.2\n"
          ]
        }
      ]
    },
    {
      "cell_type": "code",
      "source": [
        "from sentence_transformers import SentenceTransformer, LoggingHandler, models, evaluation, losses"
      ],
      "metadata": {
        "id": "2EMvBZEK-d60"
      },
      "execution_count": null,
      "outputs": []
    },
    {
      "cell_type": "code",
      "source": [
        "import os"
      ],
      "metadata": {
        "id": "-Ph-gmdd_a66"
      },
      "execution_count": null,
      "outputs": []
    },
    {
      "cell_type": "code",
      "source": [
        "#g = open(\"/content/drive/My Drive/TFG/Datasets/test.txt\", \"w\")\n",
        "src_sentences = [\"The technology-laced Nasdaq Composite Index .IXIC inched down 1 point, or 0.11 percent, to 1,650.\"]\n",
        "trg_sentences = [\"El índice Nasdaq Composite Index.IXIC bajó 1 punto, o 0,11 por ciento, a 1.650.\"]\n",
        "#dev_trans_acc = evaluation.TranslationEvaluator(src_sentences, trg_sentences, name=os.path.basename(dev_file),batch_size=inference_batch_size)\n",
        "dev_trans_acc = evaluation.TranslationEvaluator(src_sentences, trg_sentences, name=\"/content/drive/My Drive/TFG/Datasets/test.txt\",batch_size=64)\n",
        "\n"
      ],
      "metadata": {
        "colab": {
          "base_uri": "https://localhost:8080/"
        },
        "id": "IY1zi0CZ6LNA",
        "outputId": "7b9f43b0-528d-4241-82e1-946a5ef80900"
      },
      "execution_count": null,
      "outputs": [
        {
          "output_type": "execute_result",
          "data": {
            "text/plain": [
              "<sentence_transformers.evaluation.TranslationEvaluator.TranslationEvaluator at 0x7f779b603f40>"
            ]
          },
          "metadata": {},
          "execution_count": 5
        }
      ]
    },
    {
      "cell_type": "markdown",
      "source": [
        "using stsb-mpnet-base-v2 as it's the model with the greater stsb score in the listed models"
      ],
      "metadata": {
        "id": "UQqDkUP3GCA6"
      }
    },
    {
      "cell_type": "code",
      "source": [
        "from sentence_transformers import SentenceTransformer, util\n",
        "model = SentenceTransformer('stsb-mpnet-base-v2')"
      ],
      "metadata": {
        "id": "C1qM4PTaFlyH",
        "colab": {
          "base_uri": "https://localhost:8080/",
          "height": 401,
          "referenced_widgets": [
            "baae94229cad41658efa242af648d434",
            "56be61f5f95d47b8a3ad2471f10aacac",
            "79ee68be375c43e591bc1a5b1e29e3cc",
            "8461c230ac14462ca4def16c6a9513ad",
            "dac4509a8ca042c5aa284dd43c3d47be",
            "0ff4e1061391412792268b2aa0081f4d",
            "622e77e1bde24578ac0107e83fed18ab",
            "ee52c0ad5cc94cf0979fd6ef7a0cfbc1",
            "0c3ec7e8e15f4886a447d11fb73792e1",
            "ac618e749c5d4e29bcbdd0b5902c741f",
            "6f82e4bee77f4a4e91faf466a8b49f58",
            "90fa3a9fad0847e3bb5fffd5bf8fc989",
            "4ed9f92237a345acac68dfeca299c8bc",
            "5647f76fec604e12ac0068b0b8d16b14",
            "ceb36903b8014404af4de12c45c39773",
            "a2b3f313d01a49c4bdc4a8bd90057794",
            "8c7cb7eda6b54896a9c8427b88e49d4b",
            "1c8f7fd5b4a04769b4bd6afcc449c3b3",
            "ca647a65479b446287711bc9d59ece54",
            "870776bb07d94a0d869ff9f035001ed3",
            "50fc47ab018c461c9d409d3eab6dc2df",
            "c39508bd353c441a810ae255b1b8193a",
            "93320c0c05ec40abba2e310a6f91188e",
            "ab5f6f4c8c9043d099c6bfcb27487420",
            "11dcd52e163c468ea0517eff4722887a",
            "cc6937de272b49ab89003e5ee7b1ed41",
            "9d1617206c8c42f9806d35ce8e25c626",
            "db23385319ac42c1accaad08c54d2ddb",
            "3caac20e5f4f47eeb5801bb8b3eb80e5",
            "eca0f7caa65640a5ba54fa055b26dec5",
            "7444aa008a2f4ff09f3114370ebdf68b",
            "9cc1edcf6cb94e82a239ed11596c066a",
            "a82970f6aec24382abcdbb0d9eca20a7",
            "cc017dcb28a2474caa52ac9f9442f8a9",
            "58a407d25b55453aaf89a1d9412d7d74",
            "718fd1f2abc7482a9716e0a41cb41059",
            "4facd7cf69f84423960fa77069b74d15",
            "ca1fbd6e2bb54ab08f9521366ccf3256",
            "627b20ecb2b8485dac8124a2ab24875d",
            "c6e14d3b616b4ed195074344165e28e3",
            "090976c896db4596bf1fe08cf28723c5",
            "dc917c7f23384dc2b397e6e04b9d5430",
            "6cfca1c3c399407f879cf2d2b1e7fd35",
            "84a8bb381d744e93aaea060f77f2bf85",
            "8eae679ce6a94bbc9102201ea308404d",
            "0ea93bfb854748a799861af588348219",
            "317424c9a4d944a4980fb6ed52509c4a",
            "c17990c69c8c48da8b1a0739aed666b0",
            "7397631afa404fc8b374793378ee9eb9",
            "5416d82cf2434ee4befa143b6b7a9da7",
            "ea00429e35864a958dbb6c8022c24717",
            "75c074707570493f9fdcc8c849034b8d",
            "c40b086792e94594b42a3a8f89f13c75",
            "f59e3257c5d042daa1029e4786aa611c",
            "38694d53f23e47b9ab4f22175cd139a3",
            "fd322b8704e1487ca7001a6b37809d2a",
            "d9b3c2ea872248538d2b2d11ecf59744",
            "0fa6da5e3e4947d9b91797ae510f076b",
            "e2ab50bf4d1246f49891b6344cadf320",
            "db8c8c0f245345a5a1522f1018c1a6a7",
            "163ddf9394564ab5ab595f4a43ebea55",
            "9c5271fbcb5846b995426b1c9589a081",
            "b2b09957ffdf4f18b659ccee84433bf2",
            "1fc897ad3aba4b6585c27a0303a85d1e",
            "62c3483914b44f109f917985d1fd163d",
            "e9b5cea27ea94ee0a0a837ec158fa1ec",
            "4817512309c34e44a34f74c6c48749d5",
            "6db9c58b83d84e18a6f97c9396858b8b",
            "efc5a03595e745898528847021ad8648",
            "8c391f8893554af0a77e5cff1c11d574",
            "6ae417f9814f48f887bbae1455f4712a",
            "1ad477580fdb4f64a943eef753308497",
            "2de654f2cc814f92aa40fa75ca0c81b6",
            "07c474862ff64fc99d1eb44106f7d0d5",
            "c8ad1509d16642dcb2c5683b420dc785",
            "51e2d45eb798441aaf24f243991b43f3",
            "c7b8966cb151423a805cccb40b1ffa58",
            "09f9c6b4dfd1405b8bdf1cd1410344a1",
            "7b5b4826dec74b299c9655a2e67e34e1",
            "af20538b1f7c416783e3e64e0f5c28c7",
            "7dd1bc9c53ee4b2e9f93212fbd431b1e",
            "0fd38e8782604241804a2244f2a63d2a",
            "14c95029ff944a4c88ea99f2ce656bca",
            "7f864ba074e54dcb9afb185d6fe5a1b1",
            "7453684c1d854e7cb815edaf096beae9",
            "83131213c13a44e8a8d8abf259b67288",
            "1fcaae819aad4d9f9abda4a68c8a44de",
            "85d2b2966c9a4c7abd11ac144029e5be",
            "11246df81a464b9a8ec79524a13741e4",
            "a8e02cbac82a46a284fa9ea3adfd60f2",
            "6a4d301d630c41a985b49c6d0ed42c10",
            "fbd5784b73ef4f44958dbe01c6f085b5",
            "e2a258da7a80419080f0617309546577",
            "28dca1cb7e134bcfbc2ec9514562de2c",
            "b2260e0552494e33acbe06c550e0c7da",
            "08f59cbb747a4391b7ff8af7a683e3c8",
            "930ff9ad6c8741189b562b7231b61881",
            "ad173982adbf4b1ea97718e8e69ee954",
            "01f47a0df39b4fc7b58837c661ec715b",
            "4590e6682e4f48faaf59bc994aa48c41",
            "b489c5dd849e4cf7955f01043df9c130",
            "ec2af225cea24587926aaf81436207e5",
            "f3efcceb8bf546a58095bd6cd6d6c44e",
            "a65630c0ba5848fd81c87d807fe69a59",
            "0280987ac1fe41b6a54247c5580d2c26",
            "f668f2538cca4e1793c6fd2a086e4b36",
            "2e8973adb1584766a6c7de059ef95f88",
            "30977f02057e4447b146ea5013ca9017",
            "0fc5f38ffe874f2abc9680f7d6adf3b2",
            "561b50bcd947464a9b57e26a9bf6d3a6",
            "09986ab64f364e77b3e07fd48fe190f2",
            "e5e1f00494ba4122b2cff3ad994fa3d6",
            "d94daae34282416795666ff7f4d2068c",
            "b047d404976c46c0a95b19ccae805539",
            "5b559767c4c440a6a43f1014fe83a796",
            "0afe985d95cc4f9c8483dc85fbd9afdb",
            "75237f3199e440c1884f7387e5b852f0",
            "c6db9a6183704fa992948002e1c49c58",
            "30325cecae5c4febb2a4475190c84416",
            "07fed6c4877246cc8a42c512a2c99ff8",
            "77ab1aaa003547a3b76a3c897541321e",
            "8a5d03cae018407799a956e5f585061f",
            "afb6750293f74054aafbeb2198c223ab",
            "63e6d661df084d7c94c8e45e84b00a98",
            "d2e529b350ed4aaf8bafaf89cf3f5cc9",
            "9c7110806af74e2ba8a2e415439c6744",
            "33e022080395436788dfb839eca158ca",
            "e3599bd97b624e47972439d818adc12e",
            "506fcca685bb4373b8bd3052a366a132",
            "d9687bffd70845e0bd311075e225c951",
            "4d3e2d073e2f451083171f36b151fddd",
            "5647f1e54d6d44b7bfb41be875c3976b"
          ]
        },
        "outputId": "dde68b54-b57f-47ef-92a0-c2406f9f9388"
      },
      "execution_count": null,
      "outputs": [
        {
          "output_type": "display_data",
          "data": {
            "text/plain": [
              "Downloading (…)0594e/.gitattributes:   0%|          | 0.00/868 [00:00<?, ?B/s]"
            ],
            "application/vnd.jupyter.widget-view+json": {
              "version_major": 2,
              "version_minor": 0,
              "model_id": "baae94229cad41658efa242af648d434"
            }
          },
          "metadata": {}
        },
        {
          "output_type": "display_data",
          "data": {
            "text/plain": [
              "Downloading (…)_Pooling/config.json:   0%|          | 0.00/190 [00:00<?, ?B/s]"
            ],
            "application/vnd.jupyter.widget-view+json": {
              "version_major": 2,
              "version_minor": 0,
              "model_id": "90fa3a9fad0847e3bb5fffd5bf8fc989"
            }
          },
          "metadata": {}
        },
        {
          "output_type": "display_data",
          "data": {
            "text/plain": [
              "Downloading (…)3f54a0594e/README.md:   0%|          | 0.00/3.67k [00:00<?, ?B/s]"
            ],
            "application/vnd.jupyter.widget-view+json": {
              "version_major": 2,
              "version_minor": 0,
              "model_id": "93320c0c05ec40abba2e310a6f91188e"
            }
          },
          "metadata": {}
        },
        {
          "output_type": "display_data",
          "data": {
            "text/plain": [
              "Downloading (…)54a0594e/config.json:   0%|          | 0.00/588 [00:00<?, ?B/s]"
            ],
            "application/vnd.jupyter.widget-view+json": {
              "version_major": 2,
              "version_minor": 0,
              "model_id": "cc017dcb28a2474caa52ac9f9442f8a9"
            }
          },
          "metadata": {}
        },
        {
          "output_type": "display_data",
          "data": {
            "text/plain": [
              "Downloading (…)ce_transformers.json:   0%|          | 0.00/122 [00:00<?, ?B/s]"
            ],
            "application/vnd.jupyter.widget-view+json": {
              "version_major": 2,
              "version_minor": 0,
              "model_id": "8eae679ce6a94bbc9102201ea308404d"
            }
          },
          "metadata": {}
        },
        {
          "output_type": "display_data",
          "data": {
            "text/plain": [
              "Downloading pytorch_model.bin:   0%|          | 0.00/438M [00:00<?, ?B/s]"
            ],
            "application/vnd.jupyter.widget-view+json": {
              "version_major": 2,
              "version_minor": 0,
              "model_id": "fd322b8704e1487ca7001a6b37809d2a"
            }
          },
          "metadata": {}
        },
        {
          "output_type": "display_data",
          "data": {
            "text/plain": [
              "Downloading (…)nce_bert_config.json:   0%|          | 0.00/52.0 [00:00<?, ?B/s]"
            ],
            "application/vnd.jupyter.widget-view+json": {
              "version_major": 2,
              "version_minor": 0,
              "model_id": "4817512309c34e44a34f74c6c48749d5"
            }
          },
          "metadata": {}
        },
        {
          "output_type": "display_data",
          "data": {
            "text/plain": [
              "Downloading (…)cial_tokens_map.json:   0%|          | 0.00/239 [00:00<?, ?B/s]"
            ],
            "application/vnd.jupyter.widget-view+json": {
              "version_major": 2,
              "version_minor": 0,
              "model_id": "09f9c6b4dfd1405b8bdf1cd1410344a1"
            }
          },
          "metadata": {}
        },
        {
          "output_type": "display_data",
          "data": {
            "text/plain": [
              "Downloading (…)0594e/tokenizer.json:   0%|          | 0.00/466k [00:00<?, ?B/s]"
            ],
            "application/vnd.jupyter.widget-view+json": {
              "version_major": 2,
              "version_minor": 0,
              "model_id": "11246df81a464b9a8ec79524a13741e4"
            }
          },
          "metadata": {}
        },
        {
          "output_type": "display_data",
          "data": {
            "text/plain": [
              "Downloading (…)okenizer_config.json:   0%|          | 0.00/1.19k [00:00<?, ?B/s]"
            ],
            "application/vnd.jupyter.widget-view+json": {
              "version_major": 2,
              "version_minor": 0,
              "model_id": "4590e6682e4f48faaf59bc994aa48c41"
            }
          },
          "metadata": {}
        },
        {
          "output_type": "display_data",
          "data": {
            "text/plain": [
              "Downloading (…)3f54a0594e/vocab.txt:   0%|          | 0.00/232k [00:00<?, ?B/s]"
            ],
            "application/vnd.jupyter.widget-view+json": {
              "version_major": 2,
              "version_minor": 0,
              "model_id": "09986ab64f364e77b3e07fd48fe190f2"
            }
          },
          "metadata": {}
        },
        {
          "output_type": "display_data",
          "data": {
            "text/plain": [
              "Downloading (…)4a0594e/modules.json:   0%|          | 0.00/229 [00:00<?, ?B/s]"
            ],
            "application/vnd.jupyter.widget-view+json": {
              "version_major": 2,
              "version_minor": 0,
              "model_id": "8a5d03cae018407799a956e5f585061f"
            }
          },
          "metadata": {}
        }
      ]
    },
    {
      "cell_type": "markdown",
      "source": [
        "New file structure: metadata + original sentences + translated sentences + cosine similarities with the following pair order: s1 s2 , s1 ts1 , s1 ts 2, s2 ts1, s2 ts2, ts1 ts2"
      ],
      "metadata": {
        "id": "nyOogyP3Yaer"
      }
    },
    {
      "cell_type": "markdown",
      "source": [
        "Rating the M2M100_418M translation"
      ],
      "metadata": {
        "id": "Fq1MftLPIM75"
      }
    },
    {
      "cell_type": "code",
      "source": [
        "f = open(\"/content/drive/My Drive/TFG/Datasets/sts/translatedNewsDevM2M100_418M.csv\", \"r\")\n",
        "sentences=f.readlines()\n",
        "ratedSentences= \"\"\n",
        "for sentence in sentences:\n",
        "  sentencesSts1 = []\n",
        "  sentencesSts2 = []\n",
        "  sentence = sentence.split(\"\\t\")\n",
        "  sentence[-1] = sentence[-1].replace(\"\\n\",\"\")\n",
        "  metaData = sentence[0:5]\n",
        "  sent = sentence[5:]\n",
        "  sentencesSts1.extend([sent[0],sent[0],sent[0],sent[1],sent[1],sent[2]])\n",
        "  sentencesSts2.extend([sent[1],sent[2],sent[3],sent[2],sent[3],sent[3]])\n",
        "  embeddings1 = model.encode(sentencesSts1, convert_to_tensor=True)\n",
        "  embeddings2 = model.encode(sentencesSts2, convert_to_tensor=True)\n",
        "  cosine_scores = util.cos_sim(embeddings1, embeddings2)\n",
        "  ratedSentences += metaData[0]+\"\\t\"+metaData[1]+\"\\t\"+metaData[2]+\"\\t\"+metaData[3]+\"\\t\"+metaData[4]+\"\\t\"+sent[0]+\"\\t\"+sent[1]+\"\\t\"+sent[2]+\"\\t\"+sent[3]+\"\\t\"+\"{:.4f}\".format(cosine_scores[0][0])+\"\\t\"+\"{:.4f}\".format(cosine_scores[1][1])+\"\\t\"+\"{:.4f}\".format(cosine_scores[2][2])+\"\\t\"+\"{:.4f}\".format(cosine_scores[3][3])+\"\\t\"+\"{:.4f}\".format(cosine_scores[4][4])+\"\\t\"+\"{:.4f}\".format(cosine_scores[5][5])+\"\\n\""
      ],
      "metadata": {
        "id": "P0seoy11C4V-"
      },
      "execution_count": null,
      "outputs": []
    },
    {
      "cell_type": "code",
      "source": [
        "f.close()\n",
        "g = open(\"/content/drive/My Drive/TFG/Datasets/sts/ratedNewsDevM2M100_418M.csv\", \"w\")\n",
        "g.write(ratedSentences)\n",
        "g.close()"
      ],
      "metadata": {
        "id": "Rfu_FCiiFewY"
      },
      "execution_count": null,
      "outputs": []
    },
    {
      "cell_type": "markdown",
      "source": [
        "we compare the similarity scores of the pairs as s1 s2 should give similar results as ts1 s2 and s1 ts2 and ts1 ts2 if the translator is good, we will also compare it with the original annotated scores of the pair. We add two new columns to the file: the first one compares the similarity against our target similarity obtained with the stsb-mpnet-base-v2 model and the second one against the annotated score(divided by 5 to fit the cosine)"
      ],
      "metadata": {
        "id": "6C-fzY3SlW3I"
      }
    },
    {
      "cell_type": "code",
      "source": [
        "f = open(\"/content/drive/My Drive/TFG/Datasets/sts/ratedNewsDevM2M100_418M.csv\", \"r\")\n",
        "sentences=f.readlines()\n",
        "simSentences= \"\"\n",
        "totalOrigDeviation = 0\n",
        "totalTargetDeviation = 0\n",
        "for sentence in sentences:\n",
        "  prevData = sentence.split(\"\\t\")[0:9]\n",
        "  scores = sentence.split(\"\\t\")[9:]\n",
        "  scores[-1] = scores[-1].replace(\"\\n\",\"\")\n",
        "  similarity = float(scores[0])+float(scores[1])+float(scores[2])+float(scores[3])+float(scores[4])+float(scores[5])\n",
        "  targetSimilarity = float(scores[0])+1+float(scores[0])+1+float(scores[0])+float(scores[0])\n",
        "  optimalSimilarity = \"{:.4f}\".format(float(sentence.split(\"\\t\")[4])/5)\n",
        "  similarity = \"{:.4f}\".format(similarity/6)\n",
        "  targetSimilarity = \"{:.4f}\".format(targetSimilarity/6)\n",
        "  simTarg = \"{:.4f}\".format(abs(float(targetSimilarity) - float(similarity)))\n",
        "  simOrig = \"{:.4f}\".format(abs(float(optimalSimilarity) - float(similarity)))\n",
        "  simSentences += prevData[0]+\"\\t\"+prevData[1]+\"\\t\"+prevData[2]+\"\\t\"+prevData[3]+\"\\t\"+prevData[4]+\"\\t\"+prevData[5]+\"\\t\"+prevData[6]+\"\\t\"+prevData[7]+\"\\t\"+prevData[8]+\"\\t\"+\"\\t\"+scores[0]+\"\\t\"+scores[1]+\"\\t\"+scores[2]+\"\\t\"+scores[3]+\"\\t\"+scores[4]+\"\\t\"+scores[5]+\"\\t\"+simTarg+\"\\t\"+simOrig+\"\\n\"\n",
        "  totalOrigDeviation += float(simOrig)\n",
        "  totalTargetDeviation += float(simTarg)"
      ],
      "metadata": {
        "id": "UP12kf2hj_AI"
      },
      "execution_count": null,
      "outputs": []
    },
    {
      "cell_type": "code",
      "source": [
        "f.close()\n",
        "g = open(\"/content/drive/My Drive/TFG/Datasets/sts/ratedSimNewsDevM2M100_418M.csv\", \"w\")\n",
        "g.write(simSentences)\n",
        "h = open(\"/content/drive/My Drive/TFG/Datasets/sts/NewsDevRatingModels.csv\", \"a\")\n",
        "h.write(\"M2M100_418M\"+\"\\t\"+\"{:.4f}\".format(totalTargetDeviation/len(sentences))+\"\\t\"+\"{:.4f}\".format(totalOrigDeviation/len(sentences))+\"\\n\")\n",
        "g.close()\n",
        "h.close()"
      ],
      "metadata": {
        "id": "-cKdmpb6tR1c"
      },
      "execution_count": null,
      "outputs": []
    },
    {
      "cell_type": "markdown",
      "source": [
        "rating the M2M100 1.2B translation"
      ],
      "metadata": {
        "id": "P2bJOGy8IIsf"
      }
    },
    {
      "cell_type": "code",
      "source": [
        "f = open(\"/content/drive/My Drive/TFG/Datasets/sts/translatedNewsDevM2M100_1_2B.csv\", \"r\")\n",
        "sentences=f.readlines()\n",
        "ratedSentences= \"\"\n",
        "for sentence in sentences:\n",
        "  sentencesSts1 = []\n",
        "  sentencesSts2 = []\n",
        "  sentence = sentence.split(\"\\t\")\n",
        "  sentence[-1] = sentence[-1].replace(\"\\n\",\"\")\n",
        "  metaData = sentence[0:5]\n",
        "  sent = sentence[5:]\n",
        "  sentencesSts1.extend([sent[0],sent[0],sent[0],sent[1],sent[1],sent[2]])\n",
        "  sentencesSts2.extend([sent[1],sent[2],sent[3],sent[2],sent[3],sent[3]])\n",
        "  embeddings1 = model.encode(sentencesSts1, convert_to_tensor=True)\n",
        "  embeddings2 = model.encode(sentencesSts2, convert_to_tensor=True)\n",
        "  cosine_scores = util.cos_sim(embeddings1, embeddings2)\n",
        "  ratedSentences += metaData[0]+\"\\t\"+metaData[1]+\"\\t\"+metaData[2]+\"\\t\"+metaData[3]+\"\\t\"+metaData[4]+\"\\t\"+sent[0]+\"\\t\"+sent[1]+\"\\t\"+sent[2]+\"\\t\"+sent[3]+\"\\t\"+\"{:.4f}\".format(cosine_scores[0][0])+\"\\t\"+\"{:.4f}\".format(cosine_scores[1][1])+\"\\t\"+\"{:.4f}\".format(cosine_scores[2][2])+\"\\t\"+\"{:.4f}\".format(cosine_scores[3][3])+\"\\t\"+\"{:.4f}\".format(cosine_scores[4][4])+\"\\t\"+\"{:.4f}\".format(cosine_scores[5][5])+\"\\n\""
      ],
      "metadata": {
        "id": "5ST8GwlbItCV"
      },
      "execution_count": null,
      "outputs": []
    },
    {
      "cell_type": "code",
      "source": [
        "f.close()\n",
        "g = open(\"/content/drive/My Drive/TFG/Datasets/sts/ratedNewsDevM2M100_1_2B.csv\", \"w\")\n",
        "g.write(ratedSentences)\n",
        "g.close()"
      ],
      "metadata": {
        "id": "XWGwk47tLQXf"
      },
      "execution_count": null,
      "outputs": []
    },
    {
      "cell_type": "code",
      "source": [
        "f = open(\"/content/drive/My Drive/TFG/Datasets/sts/ratedNewsDevM2M100_1_2B.csv\", \"r\")\n",
        "sentences=f.readlines()\n",
        "simSentences= \"\"\n",
        "totalOrigDeviation = 0\n",
        "totalTargetDeviation = 0\n",
        "for sentence in sentences:\n",
        "  prevData = sentence.split(\"\\t\")[0:9]\n",
        "  scores = sentence.split(\"\\t\")[9:]\n",
        "  scores[-1] = scores[-1].replace(\"\\n\",\"\")\n",
        "  similarity = float(scores[0])+float(scores[1])+float(scores[2])+float(scores[3])+float(scores[4])+float(scores[5])\n",
        "  targetSimilarity = float(scores[0])+1+float(scores[0])+1+float(scores[0])+float(scores[0])\n",
        "  optimalSimilarity = \"{:.4f}\".format(float(sentence.split(\"\\t\")[4])/5)\n",
        "  similarity = \"{:.4f}\".format(similarity/6)\n",
        "  targetSimilarity = \"{:.4f}\".format(targetSimilarity/6)\n",
        "  simTarg = \"{:.4f}\".format(abs(float(targetSimilarity) - float(similarity)))\n",
        "  simOrig = \"{:.4f}\".format(abs(float(optimalSimilarity) - float(similarity)))\n",
        "  simSentences += prevData[0]+\"\\t\"+prevData[1]+\"\\t\"+prevData[2]+\"\\t\"+prevData[3]+\"\\t\"+prevData[4]+\"\\t\"+prevData[5]+\"\\t\"+prevData[6]+\"\\t\"+prevData[7]+\"\\t\"+prevData[8]+\"\\t\"+\"\\t\"+scores[0]+\"\\t\"+scores[1]+\"\\t\"+scores[2]+\"\\t\"+scores[3]+\"\\t\"+scores[4]+\"\\t\"+scores[5]+\"\\t\"+simTarg+\"\\t\"+simOrig+\"\\n\"\n",
        "  totalOrigDeviation += float(simOrig)\n",
        "  totalTargetDeviation += float(simTarg)"
      ],
      "metadata": {
        "id": "sKE6I4oByMC6"
      },
      "execution_count": null,
      "outputs": []
    },
    {
      "cell_type": "code",
      "source": [
        "f.close()\n",
        "g = open(\"/content/drive/My Drive/TFG/Datasets/sts/ratedSimNewsDevM2M100_1_2B.csv\", \"w\")\n",
        "g.write(simSentences)\n",
        "h = open(\"/content/drive/My Drive/TFG/Datasets/sts/NewsDevRatingModels.csv\", \"a\")\n",
        "h.write(\"M2M100_1_2B\"+\"\\t\"+\"{:.4f}\".format(totalTargetDeviation/len(sentences))+\"\\t\"+\"{:.4f}\".format(totalOrigDeviation/len(sentences))+\"\\n\")\n",
        "h.close()\n",
        "g.close()"
      ],
      "metadata": {
        "id": "AN6jzuDLyML3"
      },
      "execution_count": null,
      "outputs": []
    },
    {
      "cell_type": "markdown",
      "source": [
        "rating the NLLB-200-1.3B"
      ],
      "metadata": {
        "id": "bMWnRKMpMZxO"
      }
    },
    {
      "cell_type": "code",
      "source": [
        "f = open(\"/content/drive/My Drive/TFG/Datasets/sts/translatedNewsDevNLLB-200-1_3B.csv\", \"r\")\n",
        "sentences=f.readlines()\n",
        "ratedSentences= \"\"\n",
        "for sentence in sentences:\n",
        "  sentencesSts1 = []\n",
        "  sentencesSts2 = []\n",
        "  sentence = sentence.split(\"\\t\")\n",
        "  sentence[-1] = sentence[-1].replace(\"\\n\",\"\")\n",
        "  metaData = sentence[0:5]\n",
        "  sent = sentence[5:]\n",
        "  sentencesSts1.extend([sent[0],sent[0],sent[0],sent[1],sent[1],sent[2]])\n",
        "  sentencesSts2.extend([sent[1],sent[2],sent[3],sent[2],sent[3],sent[3]])\n",
        "  embeddings1 = model.encode(sentencesSts1, convert_to_tensor=True)\n",
        "  embeddings2 = model.encode(sentencesSts2, convert_to_tensor=True)\n",
        "  cosine_scores = util.cos_sim(embeddings1, embeddings2)\n",
        "  ratedSentences += metaData[0]+\"\\t\"+metaData[1]+\"\\t\"+metaData[2]+\"\\t\"+metaData[3]+\"\\t\"+metaData[4]+\"\\t\"+sent[0]+\"\\t\"+sent[1]+\"\\t\"+sent[2]+\"\\t\"+sent[3]+\"\\t\"+\"{:.4f}\".format(cosine_scores[0][0])+\"\\t\"+\"{:.4f}\".format(cosine_scores[1][1])+\"\\t\"+\"{:.4f}\".format(cosine_scores[2][2])+\"\\t\"+\"{:.4f}\".format(cosine_scores[3][3])+\"\\t\"+\"{:.4f}\".format(cosine_scores[4][4])+\"\\t\"+\"{:.4f}\".format(cosine_scores[5][5])+\"\\n\""
      ],
      "metadata": {
        "id": "vfo-2mj_MZNe"
      },
      "execution_count": null,
      "outputs": []
    },
    {
      "cell_type": "code",
      "source": [
        "f.close()\n",
        "g = open(\"/content/drive/My Drive/TFG/Datasets/sts/ratedNewsDevNLLB-200-1_3B.csv\", \"w\")\n",
        "g.write(ratedSentences)\n",
        "g.close()"
      ],
      "metadata": {
        "id": "coNY8yX2Mt2x"
      },
      "execution_count": null,
      "outputs": []
    },
    {
      "cell_type": "code",
      "source": [
        "f = open(\"/content/drive/My Drive/TFG/Datasets/sts/ratedNewsDevNLLB-200-1_3B.csv\", \"r\")\n",
        "sentences=f.readlines()\n",
        "simSentences= \"\"\n",
        "totalOrigDeviation = 0\n",
        "totalTargetDeviation = 0\n",
        "for sentence in sentences:\n",
        "  prevData = sentence.split(\"\\t\")[0:9]\n",
        "  scores = sentence.split(\"\\t\")[9:]\n",
        "  scores[-1] = scores[-1].replace(\"\\n\",\"\")\n",
        "  similarity = float(scores[0])+float(scores[1])+float(scores[2])+float(scores[3])+float(scores[4])+float(scores[5])\n",
        "  targetSimilarity = float(scores[0])+1+float(scores[0])+1+float(scores[0])+float(scores[0])\n",
        "  optimalSimilarity = \"{:.4f}\".format(float(sentence.split(\"\\t\")[4])/5)\n",
        "  similarity = \"{:.4f}\".format(similarity/6)\n",
        "  targetSimilarity = \"{:.4f}\".format(targetSimilarity/6)\n",
        "  simTarg = \"{:.4f}\".format(abs(float(targetSimilarity) - float(similarity)))\n",
        "  simOrig = \"{:.4f}\".format(abs(float(optimalSimilarity) - float(similarity)))\n",
        "  simSentences += prevData[0]+\"\\t\"+prevData[1]+\"\\t\"+prevData[2]+\"\\t\"+prevData[3]+\"\\t\"+prevData[4]+\"\\t\"+prevData[5]+\"\\t\"+prevData[6]+\"\\t\"+prevData[7]+\"\\t\"+prevData[8]+\"\\t\"+\"\\t\"+scores[0]+\"\\t\"+scores[1]+\"\\t\"+scores[2]+\"\\t\"+scores[3]+\"\\t\"+scores[4]+\"\\t\"+scores[5]+\"\\t\"+simTarg+\"\\t\"+simOrig+\"\\n\"\n",
        "  totalOrigDeviation += float(simOrig)\n",
        "  totalTargetDeviation += float(simTarg)"
      ],
      "metadata": {
        "id": "QyeC5uUp1sn8"
      },
      "execution_count": null,
      "outputs": []
    },
    {
      "cell_type": "code",
      "source": [
        "f.close()\n",
        "g = open(\"/content/drive/My Drive/TFG/Datasets/sts/ratedSimNewsDevNLLB-200-1_3B.csv\", \"w\")\n",
        "g.write(simSentences)\n",
        "h = open(\"/content/drive/My Drive/TFG/Datasets/sts/NewsDevRatingModels.csv\", \"a\")\n",
        "h.write(\"NLLB-200-1_3B\"+\"\\t\"+\"{:.4f}\".format(totalTargetDeviation/len(sentences))+\"\\t\"+\"{:.4f}\".format(totalOrigDeviation/len(sentences))+\"\\n\")\n",
        "h.close()\n",
        "g.close()"
      ],
      "metadata": {
        "id": "peIc4upM1tdn"
      },
      "execution_count": null,
      "outputs": []
    },
    {
      "cell_type": "markdown",
      "source": [
        "rating the NLLB-200-distilled-600M"
      ],
      "metadata": {
        "id": "20Da6I9TQ0R-"
      }
    },
    {
      "cell_type": "code",
      "source": [
        "f = open(\"/content/drive/My Drive/TFG/Datasets/sts/translatedNewsDevNLLB-200-distilled-600M.csv\", \"r\")\n",
        "sentences=f.readlines()\n",
        "ratedSentences= \"\"\n",
        "for sentence in sentences:\n",
        "  sentencesSts1 = []\n",
        "  sentencesSts2 = []\n",
        "  sentence = sentence.split(\"\\t\")\n",
        "  sentence[-1] = sentence[-1].replace(\"\\n\",\"\")\n",
        "  metaData = sentence[0:5]\n",
        "  sent = sentence[5:]\n",
        "  sentencesSts1.extend([sent[0],sent[0],sent[0],sent[1],sent[1],sent[2]])\n",
        "  sentencesSts2.extend([sent[1],sent[2],sent[3],sent[2],sent[3],sent[3]])\n",
        "  embeddings1 = model.encode(sentencesSts1, convert_to_tensor=True)\n",
        "  embeddings2 = model.encode(sentencesSts2, convert_to_tensor=True)\n",
        "  cosine_scores = util.cos_sim(embeddings1, embeddings2)\n",
        "  ratedSentences += metaData[0]+\"\\t\"+metaData[1]+\"\\t\"+metaData[2]+\"\\t\"+metaData[3]+\"\\t\"+metaData[4]+\"\\t\"+sent[0]+\"\\t\"+sent[1]+\"\\t\"+sent[2]+\"\\t\"+sent[3]+\"\\t\"+\"{:.4f}\".format(cosine_scores[0][0])+\"\\t\"+\"{:.4f}\".format(cosine_scores[1][1])+\"\\t\"+\"{:.4f}\".format(cosine_scores[2][2])+\"\\t\"+\"{:.4f}\".format(cosine_scores[3][3])+\"\\t\"+\"{:.4f}\".format(cosine_scores[4][4])+\"\\t\"+\"{:.4f}\".format(cosine_scores[5][5])+\"\\n\""
      ],
      "metadata": {
        "id": "KrQWUyoiQ-TU"
      },
      "execution_count": null,
      "outputs": []
    },
    {
      "cell_type": "code",
      "source": [
        "f.close()\n",
        "g = open(\"/content/drive/My Drive/TFG/Datasets/sts/ratedNewsDevNLLB-200-distilled-600M.csv\", \"w\")\n",
        "g.write(ratedSentences)\n",
        "g.close()"
      ],
      "metadata": {
        "id": "_KVhLmvYRJkg"
      },
      "execution_count": null,
      "outputs": []
    },
    {
      "cell_type": "code",
      "source": [
        "f = open(\"/content/drive/My Drive/TFG/Datasets/sts/ratedNewsDevNLLB-200-distilled-600M.csv\", \"r\")\n",
        "sentences=f.readlines()\n",
        "simSentences= \"\"\n",
        "totalOrigDeviation = 0\n",
        "totalTargetDeviation = 0\n",
        "for sentence in sentences:\n",
        "  prevData = sentence.split(\"\\t\")[0:9]\n",
        "  scores = sentence.split(\"\\t\")[9:]\n",
        "  scores[-1] = scores[-1].replace(\"\\n\",\"\")\n",
        "  similarity = float(scores[0])+float(scores[1])+float(scores[2])+float(scores[3])+float(scores[4])+float(scores[5])\n",
        "  targetSimilarity = float(scores[0])+1+float(scores[0])+1+float(scores[0])+float(scores[0])\n",
        "  optimalSimilarity = \"{:.4f}\".format(float(sentence.split(\"\\t\")[4])/5)\n",
        "  similarity = \"{:.4f}\".format(similarity/6)\n",
        "  targetSimilarity = \"{:.4f}\".format(targetSimilarity/6)\n",
        "  simTarg = \"{:.4f}\".format(abs(float(targetSimilarity) - float(similarity)))\n",
        "  simOrig = \"{:.4f}\".format(abs(float(optimalSimilarity) - float(similarity)))\n",
        "  simSentences += prevData[0]+\"\\t\"+prevData[1]+\"\\t\"+prevData[2]+\"\\t\"+prevData[3]+\"\\t\"+prevData[4]+\"\\t\"+prevData[5]+\"\\t\"+prevData[6]+\"\\t\"+prevData[7]+\"\\t\"+prevData[8]+\"\\t\"+\"\\t\"+scores[0]+\"\\t\"+scores[1]+\"\\t\"+scores[2]+\"\\t\"+scores[3]+\"\\t\"+scores[4]+\"\\t\"+scores[5]+\"\\t\"+simTarg+\"\\t\"+simOrig+\"\\n\"\n",
        "  totalOrigDeviation += float(simOrig)\n",
        "  totalTargetDeviation += float(simTarg)"
      ],
      "metadata": {
        "id": "pvset8703HrB"
      },
      "execution_count": null,
      "outputs": []
    },
    {
      "cell_type": "code",
      "source": [
        "f.close()\n",
        "g = open(\"/content/drive/My Drive/TFG/Datasets/sts/ratedSimNewsDevNLLB-200-distilled-600M.csv\", \"w\")\n",
        "g.write(simSentences)\n",
        "h = open(\"/content/drive/My Drive/TFG/Datasets/sts/NewsDevRatingModels.csv\", \"a\")\n",
        "h.write(\"NLLB-200-distilled-600M\"+\"\\t\"+\"{:.4f}\".format(totalTargetDeviation/len(sentences))+\"\\t\"+\"{:.4f}\".format(totalOrigDeviation/len(sentences))+\"\\n\")\n",
        "h.close()\n",
        "g.close()"
      ],
      "metadata": {
        "id": "7Pg1_vwq3H1E"
      },
      "execution_count": null,
      "outputs": []
    },
    {
      "cell_type": "markdown",
      "source": [
        "rating the opus-mt-en-es"
      ],
      "metadata": {
        "id": "Sp1gfOiySD-n"
      }
    },
    {
      "cell_type": "code",
      "source": [
        "f = open(\"/content/drive/My Drive/TFG/Datasets/sts/translatedNewsDevOpus-mt-en-es.csv\", \"r\")\n",
        "sentences=f.readlines()\n",
        "ratedSentences= \"\"\n",
        "for sentence in sentences:\n",
        "  sentencesSts1 = []\n",
        "  sentencesSts2 = []\n",
        "  sentence = sentence.split(\"\\t\")\n",
        "  sentence[-1] = sentence[-1].replace(\"\\n\",\"\")\n",
        "  metaData = sentence[0:5]\n",
        "  sent = sentence[5:]\n",
        "  sentencesSts1.extend([sent[0],sent[0],sent[0],sent[1],sent[1],sent[2]])\n",
        "  sentencesSts2.extend([sent[1],sent[2],sent[3],sent[2],sent[3],sent[3]])\n",
        "  embeddings1 = model.encode(sentencesSts1, convert_to_tensor=True)\n",
        "  embeddings2 = model.encode(sentencesSts2, convert_to_tensor=True)\n",
        "  cosine_scores = util.cos_sim(embeddings1, embeddings2)\n",
        "  ratedSentences += metaData[0]+\"\\t\"+metaData[1]+\"\\t\"+metaData[2]+\"\\t\"+metaData[3]+\"\\t\"+metaData[4]+\"\\t\"+sent[0]+\"\\t\"+sent[1]+\"\\t\"+sent[2]+\"\\t\"+sent[3]+\"\\t\"+\"{:.4f}\".format(cosine_scores[0][0])+\"\\t\"+\"{:.4f}\".format(cosine_scores[1][1])+\"\\t\"+\"{:.4f}\".format(cosine_scores[2][2])+\"\\t\"+\"{:.4f}\".format(cosine_scores[3][3])+\"\\t\"+\"{:.4f}\".format(cosine_scores[4][4])+\"\\t\"+\"{:.4f}\".format(cosine_scores[5][5])+\"\\n\""
      ],
      "metadata": {
        "id": "aA_58wB0SHEO"
      },
      "execution_count": null,
      "outputs": []
    },
    {
      "cell_type": "code",
      "source": [
        "f.close()\n",
        "g = open(\"/content/drive/My Drive/TFG/Datasets/sts/ratedNewsDevOpus-mt-en-es.csv\", \"w\")\n",
        "g.write(ratedSentences)\n",
        "g.close()"
      ],
      "metadata": {
        "id": "pdy0yB78Ux6c"
      },
      "execution_count": null,
      "outputs": []
    },
    {
      "cell_type": "code",
      "source": [
        "f = open(\"/content/drive/My Drive/TFG/Datasets/sts/ratedNewsDevOpus-mt-en-es.csv\", \"r\")\n",
        "sentences=f.readlines()\n",
        "simSentences= \"\"\n",
        "totalOrigDeviation = 0\n",
        "totalTargetDeviation = 0\n",
        "for sentence in sentences:\n",
        "  prevData = sentence.split(\"\\t\")[0:9]\n",
        "  scores = sentence.split(\"\\t\")[9:]\n",
        "  scores[-1] = scores[-1].replace(\"\\n\",\"\")\n",
        "  similarity = float(scores[0])+float(scores[1])+float(scores[2])+float(scores[3])+float(scores[4])+float(scores[5])\n",
        "  targetSimilarity = float(scores[0])+1+float(scores[0])+1+float(scores[0])+float(scores[0])\n",
        "  optimalSimilarity = \"{:.4f}\".format(float(sentence.split(\"\\t\")[4])/5)\n",
        "  similarity = \"{:.4f}\".format(similarity/6)\n",
        "  targetSimilarity = \"{:.4f}\".format(targetSimilarity/6)\n",
        "  simTarg = \"{:.4f}\".format(abs(float(targetSimilarity) - float(similarity)))\n",
        "  simOrig = \"{:.4f}\".format(abs(float(optimalSimilarity) - float(similarity)))\n",
        "  simSentences += prevData[0]+\"\\t\"+prevData[1]+\"\\t\"+prevData[2]+\"\\t\"+prevData[3]+\"\\t\"+prevData[4]+\"\\t\"+prevData[5]+\"\\t\"+prevData[6]+\"\\t\"+prevData[7]+\"\\t\"+prevData[8]+\"\\t\"+\"\\t\"+scores[0]+\"\\t\"+scores[1]+\"\\t\"+scores[2]+\"\\t\"+scores[3]+\"\\t\"+scores[4]+\"\\t\"+scores[5]+\"\\t\"+simTarg+\"\\t\"+simOrig+\"\\n\"\n",
        "  totalOrigDeviation += float(simOrig)\n",
        "  totalTargetDeviation += float(simTarg)"
      ],
      "metadata": {
        "id": "kSlKYOcc31nm"
      },
      "execution_count": null,
      "outputs": []
    },
    {
      "cell_type": "code",
      "source": [
        "f.close()\n",
        "g = open(\"/content/drive/My Drive/TFG/Datasets/sts/ratedSimNewsDevOpus-mt-en-es.csv\", \"w\")\n",
        "g.write(simSentences)\n",
        "h = open(\"/content/drive/My Drive/TFG/Datasets/sts/NewsDevRatingModels.csv\", \"a\")\n",
        "h.write(\"Opus-mt-en-es\"+\"\\t\"+\"{:.4f}\".format(totalTargetDeviation/len(sentences))+\"\\t\"+\"{:.4f}\".format(totalOrigDeviation/len(sentences))+\"\\n\")\n",
        "h.close()\n",
        "g.close()"
      ],
      "metadata": {
        "id": "2WVFlM0C31u-"
      },
      "execution_count": null,
      "outputs": []
    },
    {
      "cell_type": "markdown",
      "source": [
        "rating the opus-mt-en-ROMANCE"
      ],
      "metadata": {
        "id": "lIAQeTUKVtD4"
      }
    },
    {
      "cell_type": "code",
      "source": [
        "f = open(\"/content/drive/My Drive/TFG/Datasets/sts/translatedNewsDevOpus-mt-en-ROMANCE.csv\", \"r\")\n",
        "sentences=f.readlines()\n",
        "ratedSentences= \"\"\n",
        "for sentence in sentences:\n",
        "  sentencesSts1 = []\n",
        "  sentencesSts2 = []\n",
        "  sentence = sentence.split(\"\\t\")\n",
        "  sentence[-1] = sentence[-1].replace(\"\\n\",\"\")\n",
        "  metaData = sentence[0:5]\n",
        "  sent = sentence[5:]\n",
        "  sentencesSts1.extend([sent[0],sent[0],sent[0],sent[1],sent[1],sent[2]])\n",
        "  sentencesSts2.extend([sent[1],sent[2],sent[3],sent[2],sent[3],sent[3]])\n",
        "  embeddings1 = model.encode(sentencesSts1, convert_to_tensor=True)\n",
        "  embeddings2 = model.encode(sentencesSts2, convert_to_tensor=True)\n",
        "  cosine_scores = util.cos_sim(embeddings1, embeddings2)\n",
        "  ratedSentences += metaData[0]+\"\\t\"+metaData[1]+\"\\t\"+metaData[2]+\"\\t\"+metaData[3]+\"\\t\"+metaData[4]+\"\\t\"+sent[0]+\"\\t\"+sent[1]+\"\\t\"+sent[2]+\"\\t\"+sent[3]+\"\\t\"+\"{:.4f}\".format(cosine_scores[0][0])+\"\\t\"+\"{:.4f}\".format(cosine_scores[1][1])+\"\\t\"+\"{:.4f}\".format(cosine_scores[2][2])+\"\\t\"+\"{:.4f}\".format(cosine_scores[3][3])+\"\\t\"+\"{:.4f}\".format(cosine_scores[4][4])+\"\\t\"+\"{:.4f}\".format(cosine_scores[5][5])+\"\\n\""
      ],
      "metadata": {
        "id": "2LYrxJdmV0JC"
      },
      "execution_count": null,
      "outputs": []
    },
    {
      "cell_type": "code",
      "source": [
        "f.close()\n",
        "g = open(\"/content/drive/My Drive/TFG/Datasets/sts/ratedNewsDevOpus-mt-en-ROMANCE.csv\", \"w\")\n",
        "g.write(ratedSentences)\n",
        "g.close()"
      ],
      "metadata": {
        "id": "ttUgfYNwWXQ9"
      },
      "execution_count": null,
      "outputs": []
    },
    {
      "cell_type": "code",
      "source": [
        "f = open(\"/content/drive/My Drive/TFG/Datasets/sts/ratedNewsDevOpus-mt-en-ROMANCE.csv\", \"r\")\n",
        "sentences=f.readlines()\n",
        "simSentences= \"\"\n",
        "totalOrigDeviation = 0\n",
        "totalTargetDeviation = 0\n",
        "for sentence in sentences:\n",
        "  prevData = sentence.split(\"\\t\")[0:9]\n",
        "  scores = sentence.split(\"\\t\")[9:]\n",
        "  scores[-1] = scores[-1].replace(\"\\n\",\"\")\n",
        "  similarity = float(scores[0])+float(scores[1])+float(scores[2])+float(scores[3])+float(scores[4])+float(scores[5])\n",
        "  targetSimilarity = float(scores[0])+1+float(scores[0])+1+float(scores[0])+float(scores[0])\n",
        "  optimalSimilarity = \"{:.4f}\".format(float(sentence.split(\"\\t\")[4])/5)\n",
        "  similarity = \"{:.4f}\".format(similarity/6)\n",
        "  targetSimilarity = \"{:.4f}\".format(targetSimilarity/6)\n",
        "  simTarg = \"{:.4f}\".format(abs(float(targetSimilarity) - float(similarity)))\n",
        "  simOrig = \"{:.4f}\".format(abs(float(optimalSimilarity) - float(similarity)))\n",
        "  simSentences += prevData[0]+\"\\t\"+prevData[1]+\"\\t\"+prevData[2]+\"\\t\"+prevData[3]+\"\\t\"+prevData[4]+\"\\t\"+prevData[5]+\"\\t\"+prevData[6]+\"\\t\"+prevData[7]+\"\\t\"+prevData[8]+\"\\t\"+\"\\t\"+scores[0]+\"\\t\"+scores[1]+\"\\t\"+scores[2]+\"\\t\"+scores[3]+\"\\t\"+scores[4]+\"\\t\"+scores[5]+\"\\t\"+simTarg+\"\\t\"+simOrig+\"\\n\"\n",
        "  totalOrigDeviation += float(simOrig)\n",
        "  totalTargetDeviation += float(simTarg)"
      ],
      "metadata": {
        "id": "sKBXlggs4WrQ"
      },
      "execution_count": null,
      "outputs": []
    },
    {
      "cell_type": "code",
      "source": [
        "f.close()\n",
        "g = open(\"/content/drive/My Drive/TFG/Datasets/sts/ratedSimNewsDevOpus-mt-en-ROMANCE.csv\", \"w\")\n",
        "g.write(simSentences)\n",
        "h = open(\"/content/drive/My Drive/TFG/Datasets/sts/NewsDevRatingModels.csv\", \"a\")\n",
        "h.write(\"Opus-mt-en-ROMANCE\"+\"\\t\"+\"{:.4f}\".format(totalTargetDeviation/len(sentences))+\"\\t\"+\"{:.4f}\".format(totalOrigDeviation/len(sentences))+\"\\n\")\n",
        "h.close()\n",
        "g.close()"
      ],
      "metadata": {
        "id": "wOkgS24V4Xhe"
      },
      "execution_count": null,
      "outputs": []
    }
  ]
}